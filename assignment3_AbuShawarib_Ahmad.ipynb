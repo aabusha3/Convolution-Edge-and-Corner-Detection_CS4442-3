{
 "cells": [
  {
   "cell_type": "markdown",
   "metadata": {},
   "source": [
    "Problem 1. Edge Detection (50%)"
   ]
  },
  {
   "cell_type": "markdown",
   "metadata": {},
   "source": [
    "a) Implement convolution process of smoothing Image 1 with a 5 x 5 Gaussian Filter with 𝜎 = 1 𝑎𝑛𝑑 2 , plot the corresponding output images (10%)."
   ]
  },
  {
   "cell_type": "markdown",
   "metadata": {},
   "source": [
    "b) Implement convolution process of convolving a 3 x 3 Sobel filters (𝑆𝑥 𝑎𝑛𝑑 𝑆𝑦) with the output images you obtained in step a. Plot the outputs of each step and the final edge map which, combines edges in x and y directions (10%)."
   ]
  },
  {
   "cell_type": "markdown",
   "metadata": {},
   "source": [
    "c) Implement convolution process of convolving Image 1 with $\\frac{\\partial G}{\\partial x}$ 𝑎𝑛𝑑 $\\frac{\\partial G}{\\partial y}$ filters (5 x 5 filters and for 𝜎 = 1 𝑎𝑛𝑑 2 , and plot the outputs of each step and the final edge map which combines edges in x and y directions (20%)"
   ]
  },
  {
   "cell_type": "markdown",
   "metadata": {},
   "source": [
    "Please explain what do you observe comparing the final output of b and c (10%)."
   ]
  }
 ],
 "metadata": {
  "language_info": {
   "name": "python"
  }
 },
 "nbformat": 4,
 "nbformat_minor": 2
}
